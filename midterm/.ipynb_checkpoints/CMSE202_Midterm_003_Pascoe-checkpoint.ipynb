{
 "cells": [
  {
   "cell_type": "markdown",
   "id": "6c5e6854-6890-4440-927d-1c5666fe7858",
   "metadata": {
    "tags": []
   },
   "source": [
    "# CMSE 202 Midterm Section 003\n",
    "\n",
    "The goal of this midterm is to give you the opportunity to test out some of the skills that you've developed thus far this semester. In particular, you'll reflect on what you know about writing code using Python and showcase some of your new programming skills.\n",
    "\n",
    "**Important note about using online resources:** This exam is \"open internet\". That means that you can look up documentation, google how to accomplish certain Python tasks, etc. Being able to effectively use the internet for computational modeling and data science is a very important skill, so we want to make sure you have the opportunity to exercise that skill. **However, the use of any person-to-person communication software is absolutely not acceptable.**\n",
    "\n",
    "**Do your own work.** This midterm is designed to give you the opportunity to show the instructor what you can do and you should hold yourself accountable for maintaining a high level of academic integrity. Any violation of academic integrity could result in you receiving a zero on the midterm.\n",
    "\n",
    "You are encouraged to look through the entire exam before you get started so that you can appropriately budget your time and understand the broad goals of the exam.\n",
    "\n",
    "If you have any questions during the exam, you may ask the instructor, the TA, or the LA privately; simply raise your hand and one of us will come over to you. \n",
    "\n",
    "### Content Knowledge Tested\n",
    "- Using Github to save and track progress on your work\n",
    "- Using Pandas to read, manipulate, and access data files\n",
    "- Using documentation and examples to effectively utilitze unfamiliar Python packages \n",
    "- Writing new classes to effectively store complex datasets"
   ]
  },
  {
   "cell_type": "markdown",
   "id": "dcc1f32a-2fcc-4031-94ff-096062983643",
   "metadata": {
    "tags": []
   },
   "source": [
    "## Part 0: Add to your Git repository to track your progress on your exam (10 points total)\n",
    "\n",
    "Before you get to far along in the exam, you're going to add it to the `cmse202-S23-turnin` repository you created in class so that you can track your progress on the exam and preserve the final version that you turn in. In order to do this you need to\n",
    "\n",
    "### &#9989; Part 0.1 (5 points):\n",
    "\n",
    "1. Navigate to your `cmse202-S23-turnin` repository and create a new directory called `midterm`.\n",
    "2. Move this notebook into that **new directory** in your repository, then **add it and commit it to your repository**.\n",
    "1. Finally, to test that everything is working, \"git push\" the file so that it ends up in your GitHub repository.\n",
    "\n",
    "**Important**: Double check you've added your Professor and your TA as collaborators to your \"turnin\" respository (you should have done this in the previous homework assignment).\n",
    "\n",
    "**Also important**: Make sure that the version of this notebook that you are working on is the same one that you just added to your repository! If you are working on a different copy of the noteobok, **none of your changes will be tracked**!\n",
    "\n",
    "The file should now show up on your GitHub account in the `cmse202-S23-turnin` repository inside the `midterm` directory you just created.  Periodically, **you'll be asked to commit your changes to the repository and push them to the remote GitHub location**. It can be good to get into a habit of committing your changes any time you make a significant modification.\n",
    "\n",
    "### Part 0.2 (2 points):\n",
    "&#9989; Before you move on, **put the command(s) that your instructor should run to clone your repository in the markdown cell below.**"
   ]
  },
  {
   "cell_type": "markdown",
   "id": "a2a68782",
   "metadata": {},
   "source": [
    "git clone https://github.com/pascoela/CMSE202-s23-turnin"
   ]
  },
  {
   "cell_type": "markdown",
   "id": "4983c96b-98f0-415d-8a38-39c1623dbe8a",
   "metadata": {},
   "source": [
    "## Part 1: Getting Data with Curl (3 points)\n",
    "\n",
    "For this exam, you will be working with a dataset that contains **climate data (temperature and precipitation)** for several cities in Australia. \n",
    "\n",
    "First, let’s get our data files. \n",
    "\n",
    "&#9989; **Download the files using `curl` and the following links. Put the commands you used to download the files in the cell below.**\n",
    "\n",
    "`https://raw.githubusercontent.com/msu-cmse-courses/cmse202-S23-data/main/meta_data.csv`\n",
    "\n",
    "`https://raw.githubusercontent.com/msu-cmse-courses/cmse202-S23-data/main/aus_precip.csv`\n",
    "\n",
    "`https://raw.githubusercontent.com/msu-cmse-courses/cmse202-S23-data/main/aus_temp.csv`\n"
   ]
  },
  {
   "cell_type": "code",
   "execution_count": 2,
   "id": "8a5c8eac-5deb-477c-803a-527b4cc9c2c0",
   "metadata": {},
   "outputs": [],
   "source": [
    "# curl https://raw.githubusercontent.com/msu-cmse-courses/cmse202-S23-data/main/meta_data.csv -o meta_data.csv\n",
    "# curl https://raw.githubusercontent.com/msu-cmse-courses/cmse202-S23-data/main/aus_precip.csv -o aus_precip.csv\n",
    "# curl https://raw.githubusercontent.com/msu-cmse-courses/cmse202-S23-data/main/aus_temp.csv -o aus_temp.csv"
   ]
  },
  {
   "cell_type": "markdown",
   "id": "81c8c313-2d23-4eff-a713-7abf289d3773",
   "metadata": {
    "tags": []
   },
   "source": [
    "## Part 2: Reading the Data (5 points)\n",
    "\n",
    "&#9989; **Read in the data files using Pandas (put your code in the cell below).** One of them has metadata about each location, one of them has precipitation values for each location, and the last one has the temperature values for each location. "
   ]
  },
  {
   "cell_type": "code",
   "execution_count": 12,
   "id": "a3a77d21-f2ed-40b9-aa23-77ca5faefb80",
   "metadata": {},
   "outputs": [],
   "source": [
    "import pandas as pd \n",
    "\n",
    "meta = pd.read_csv(\"meta_data.csv\", delimiter = \",\")\n",
    "precip = pd.read_csv(\"aus_precip.csv\")\n",
    "temp = pd.read_csv(\"aus_temp.csv\")"
   ]
  },
  {
   "cell_type": "markdown",
   "id": "cb928c2f-720c-4185-ab3e-103ad91dab9d",
   "metadata": {
    "tags": []
   },
   "source": [
    "## Part 3: Using a \"New\" Package (15 points)\n",
    "For this problem, we want you to use a new package that you aren’t as used to. Specifically, you’ll be using the [Plotly plotting package](https://plotly.com/python/). \n",
    "\n",
    "&#9989; Latitude and Longitude give you a position on the Earth. **Use the Plotly Express `scatter_geo` [Link to documentation](https://plotly.com/python-api-reference/generated/plotly.express.scatter_geo) plot to make a scatter plot of the city locations in the metadata dataframe.** You may use the starter code below to help!\n",
    "\n",
    "\n",
    "**Hint:** You will need to provide the column names for the `lat` and `lon` arguments in `scatter_geo`. You should find that all of the data points are located in Australia!"
   ]
  },
  {
   "cell_type": "code",
   "execution_count": 15,
   "id": "9d5ee909-a4f0-4678-89be-07e412a305b9",
   "metadata": {},
   "outputs": [
    {
     "data": {
      "application/vnd.plotly.v1+json": {
       "config": {
        "plotlyServerURL": "https://plot.ly"
       },
       "data": [
        {
         "geo": "geo",
         "hovertemplate": "latitude=%{lat}<br>longitude=%{lon}<extra></extra>",
         "lat": [
          -34.9289,
          -35.0228,
          -36.0806,
          -23.7,
          -37.55,
          -36.75,
          -27.4678,
          -16.9303,
          -35.2931,
          -31.4997,
          -30.3022,
          -12.4381,
          -28.0167,
          -42.8806,
          -41.4419,
          -37.8136,
          -34.1889,
          -29.465,
          -37.8294,
          -32.9167,
          -34.4667,
          -33.7511,
          -31.9522,
          -38.3333,
          -33.5983,
          -38.1,
          -33.865,
          -19.2564,
          -35.1189,
          -34.4331
         ],
         "legendgroup": "",
         "lon": [
          138.6011,
          117.8814,
          146.9158,
          133.8667,
          143.85,
          144.2667,
          153.0281,
          145.7703,
          149.1269,
          145.8319,
          153.1189,
          130.8411,
          153.4,
          147.325,
          147.145,
          144.9631,
          142.1583,
          149.8344,
          140.7828,
          151.75,
          138.9833,
          150.6942,
          115.8589,
          141.6,
          150.7511,
          147.0667,
          151.2094,
          146.8183,
          147.3689,
          150.8831
         ],
         "marker": {
          "color": "#636efa",
          "symbol": "circle"
         },
         "mode": "markers",
         "name": "",
         "showlegend": false,
         "type": "scattergeo"
        }
       ],
       "layout": {
        "geo": {
         "center": {},
         "domain": {
          "x": [
           0,
           1
          ],
          "y": [
           0,
           1
          ]
         }
        },
        "legend": {
         "tracegroupgap": 0
        },
        "margin": {
         "t": 60
        },
        "template": {
         "data": {
          "bar": [
           {
            "error_x": {
             "color": "#2a3f5f"
            },
            "error_y": {
             "color": "#2a3f5f"
            },
            "marker": {
             "line": {
              "color": "#E5ECF6",
              "width": 0.5
             },
             "pattern": {
              "fillmode": "overlay",
              "size": 10,
              "solidity": 0.2
             }
            },
            "type": "bar"
           }
          ],
          "barpolar": [
           {
            "marker": {
             "line": {
              "color": "#E5ECF6",
              "width": 0.5
             },
             "pattern": {
              "fillmode": "overlay",
              "size": 10,
              "solidity": 0.2
             }
            },
            "type": "barpolar"
           }
          ],
          "carpet": [
           {
            "aaxis": {
             "endlinecolor": "#2a3f5f",
             "gridcolor": "white",
             "linecolor": "white",
             "minorgridcolor": "white",
             "startlinecolor": "#2a3f5f"
            },
            "baxis": {
             "endlinecolor": "#2a3f5f",
             "gridcolor": "white",
             "linecolor": "white",
             "minorgridcolor": "white",
             "startlinecolor": "#2a3f5f"
            },
            "type": "carpet"
           }
          ],
          "choropleth": [
           {
            "colorbar": {
             "outlinewidth": 0,
             "ticks": ""
            },
            "type": "choropleth"
           }
          ],
          "contour": [
           {
            "colorbar": {
             "outlinewidth": 0,
             "ticks": ""
            },
            "colorscale": [
             [
              0,
              "#0d0887"
             ],
             [
              0.1111111111111111,
              "#46039f"
             ],
             [
              0.2222222222222222,
              "#7201a8"
             ],
             [
              0.3333333333333333,
              "#9c179e"
             ],
             [
              0.4444444444444444,
              "#bd3786"
             ],
             [
              0.5555555555555556,
              "#d8576b"
             ],
             [
              0.6666666666666666,
              "#ed7953"
             ],
             [
              0.7777777777777778,
              "#fb9f3a"
             ],
             [
              0.8888888888888888,
              "#fdca26"
             ],
             [
              1,
              "#f0f921"
             ]
            ],
            "type": "contour"
           }
          ],
          "contourcarpet": [
           {
            "colorbar": {
             "outlinewidth": 0,
             "ticks": ""
            },
            "type": "contourcarpet"
           }
          ],
          "heatmap": [
           {
            "colorbar": {
             "outlinewidth": 0,
             "ticks": ""
            },
            "colorscale": [
             [
              0,
              "#0d0887"
             ],
             [
              0.1111111111111111,
              "#46039f"
             ],
             [
              0.2222222222222222,
              "#7201a8"
             ],
             [
              0.3333333333333333,
              "#9c179e"
             ],
             [
              0.4444444444444444,
              "#bd3786"
             ],
             [
              0.5555555555555556,
              "#d8576b"
             ],
             [
              0.6666666666666666,
              "#ed7953"
             ],
             [
              0.7777777777777778,
              "#fb9f3a"
             ],
             [
              0.8888888888888888,
              "#fdca26"
             ],
             [
              1,
              "#f0f921"
             ]
            ],
            "type": "heatmap"
           }
          ],
          "heatmapgl": [
           {
            "colorbar": {
             "outlinewidth": 0,
             "ticks": ""
            },
            "colorscale": [
             [
              0,
              "#0d0887"
             ],
             [
              0.1111111111111111,
              "#46039f"
             ],
             [
              0.2222222222222222,
              "#7201a8"
             ],
             [
              0.3333333333333333,
              "#9c179e"
             ],
             [
              0.4444444444444444,
              "#bd3786"
             ],
             [
              0.5555555555555556,
              "#d8576b"
             ],
             [
              0.6666666666666666,
              "#ed7953"
             ],
             [
              0.7777777777777778,
              "#fb9f3a"
             ],
             [
              0.8888888888888888,
              "#fdca26"
             ],
             [
              1,
              "#f0f921"
             ]
            ],
            "type": "heatmapgl"
           }
          ],
          "histogram": [
           {
            "marker": {
             "pattern": {
              "fillmode": "overlay",
              "size": 10,
              "solidity": 0.2
             }
            },
            "type": "histogram"
           }
          ],
          "histogram2d": [
           {
            "colorbar": {
             "outlinewidth": 0,
             "ticks": ""
            },
            "colorscale": [
             [
              0,
              "#0d0887"
             ],
             [
              0.1111111111111111,
              "#46039f"
             ],
             [
              0.2222222222222222,
              "#7201a8"
             ],
             [
              0.3333333333333333,
              "#9c179e"
             ],
             [
              0.4444444444444444,
              "#bd3786"
             ],
             [
              0.5555555555555556,
              "#d8576b"
             ],
             [
              0.6666666666666666,
              "#ed7953"
             ],
             [
              0.7777777777777778,
              "#fb9f3a"
             ],
             [
              0.8888888888888888,
              "#fdca26"
             ],
             [
              1,
              "#f0f921"
             ]
            ],
            "type": "histogram2d"
           }
          ],
          "histogram2dcontour": [
           {
            "colorbar": {
             "outlinewidth": 0,
             "ticks": ""
            },
            "colorscale": [
             [
              0,
              "#0d0887"
             ],
             [
              0.1111111111111111,
              "#46039f"
             ],
             [
              0.2222222222222222,
              "#7201a8"
             ],
             [
              0.3333333333333333,
              "#9c179e"
             ],
             [
              0.4444444444444444,
              "#bd3786"
             ],
             [
              0.5555555555555556,
              "#d8576b"
             ],
             [
              0.6666666666666666,
              "#ed7953"
             ],
             [
              0.7777777777777778,
              "#fb9f3a"
             ],
             [
              0.8888888888888888,
              "#fdca26"
             ],
             [
              1,
              "#f0f921"
             ]
            ],
            "type": "histogram2dcontour"
           }
          ],
          "mesh3d": [
           {
            "colorbar": {
             "outlinewidth": 0,
             "ticks": ""
            },
            "type": "mesh3d"
           }
          ],
          "parcoords": [
           {
            "line": {
             "colorbar": {
              "outlinewidth": 0,
              "ticks": ""
             }
            },
            "type": "parcoords"
           }
          ],
          "pie": [
           {
            "automargin": true,
            "type": "pie"
           }
          ],
          "scatter": [
           {
            "fillpattern": {
             "fillmode": "overlay",
             "size": 10,
             "solidity": 0.2
            },
            "type": "scatter"
           }
          ],
          "scatter3d": [
           {
            "line": {
             "colorbar": {
              "outlinewidth": 0,
              "ticks": ""
             }
            },
            "marker": {
             "colorbar": {
              "outlinewidth": 0,
              "ticks": ""
             }
            },
            "type": "scatter3d"
           }
          ],
          "scattercarpet": [
           {
            "marker": {
             "colorbar": {
              "outlinewidth": 0,
              "ticks": ""
             }
            },
            "type": "scattercarpet"
           }
          ],
          "scattergeo": [
           {
            "marker": {
             "colorbar": {
              "outlinewidth": 0,
              "ticks": ""
             }
            },
            "type": "scattergeo"
           }
          ],
          "scattergl": [
           {
            "marker": {
             "colorbar": {
              "outlinewidth": 0,
              "ticks": ""
             }
            },
            "type": "scattergl"
           }
          ],
          "scattermapbox": [
           {
            "marker": {
             "colorbar": {
              "outlinewidth": 0,
              "ticks": ""
             }
            },
            "type": "scattermapbox"
           }
          ],
          "scatterpolar": [
           {
            "marker": {
             "colorbar": {
              "outlinewidth": 0,
              "ticks": ""
             }
            },
            "type": "scatterpolar"
           }
          ],
          "scatterpolargl": [
           {
            "marker": {
             "colorbar": {
              "outlinewidth": 0,
              "ticks": ""
             }
            },
            "type": "scatterpolargl"
           }
          ],
          "scatterternary": [
           {
            "marker": {
             "colorbar": {
              "outlinewidth": 0,
              "ticks": ""
             }
            },
            "type": "scatterternary"
           }
          ],
          "surface": [
           {
            "colorbar": {
             "outlinewidth": 0,
             "ticks": ""
            },
            "colorscale": [
             [
              0,
              "#0d0887"
             ],
             [
              0.1111111111111111,
              "#46039f"
             ],
             [
              0.2222222222222222,
              "#7201a8"
             ],
             [
              0.3333333333333333,
              "#9c179e"
             ],
             [
              0.4444444444444444,
              "#bd3786"
             ],
             [
              0.5555555555555556,
              "#d8576b"
             ],
             [
              0.6666666666666666,
              "#ed7953"
             ],
             [
              0.7777777777777778,
              "#fb9f3a"
             ],
             [
              0.8888888888888888,
              "#fdca26"
             ],
             [
              1,
              "#f0f921"
             ]
            ],
            "type": "surface"
           }
          ],
          "table": [
           {
            "cells": {
             "fill": {
              "color": "#EBF0F8"
             },
             "line": {
              "color": "white"
             }
            },
            "header": {
             "fill": {
              "color": "#C8D4E3"
             },
             "line": {
              "color": "white"
             }
            },
            "type": "table"
           }
          ]
         },
         "layout": {
          "annotationdefaults": {
           "arrowcolor": "#2a3f5f",
           "arrowhead": 0,
           "arrowwidth": 1
          },
          "autotypenumbers": "strict",
          "coloraxis": {
           "colorbar": {
            "outlinewidth": 0,
            "ticks": ""
           }
          },
          "colorscale": {
           "diverging": [
            [
             0,
             "#8e0152"
            ],
            [
             0.1,
             "#c51b7d"
            ],
            [
             0.2,
             "#de77ae"
            ],
            [
             0.3,
             "#f1b6da"
            ],
            [
             0.4,
             "#fde0ef"
            ],
            [
             0.5,
             "#f7f7f7"
            ],
            [
             0.6,
             "#e6f5d0"
            ],
            [
             0.7,
             "#b8e186"
            ],
            [
             0.8,
             "#7fbc41"
            ],
            [
             0.9,
             "#4d9221"
            ],
            [
             1,
             "#276419"
            ]
           ],
           "sequential": [
            [
             0,
             "#0d0887"
            ],
            [
             0.1111111111111111,
             "#46039f"
            ],
            [
             0.2222222222222222,
             "#7201a8"
            ],
            [
             0.3333333333333333,
             "#9c179e"
            ],
            [
             0.4444444444444444,
             "#bd3786"
            ],
            [
             0.5555555555555556,
             "#d8576b"
            ],
            [
             0.6666666666666666,
             "#ed7953"
            ],
            [
             0.7777777777777778,
             "#fb9f3a"
            ],
            [
             0.8888888888888888,
             "#fdca26"
            ],
            [
             1,
             "#f0f921"
            ]
           ],
           "sequentialminus": [
            [
             0,
             "#0d0887"
            ],
            [
             0.1111111111111111,
             "#46039f"
            ],
            [
             0.2222222222222222,
             "#7201a8"
            ],
            [
             0.3333333333333333,
             "#9c179e"
            ],
            [
             0.4444444444444444,
             "#bd3786"
            ],
            [
             0.5555555555555556,
             "#d8576b"
            ],
            [
             0.6666666666666666,
             "#ed7953"
            ],
            [
             0.7777777777777778,
             "#fb9f3a"
            ],
            [
             0.8888888888888888,
             "#fdca26"
            ],
            [
             1,
             "#f0f921"
            ]
           ]
          },
          "colorway": [
           "#636efa",
           "#EF553B",
           "#00cc96",
           "#ab63fa",
           "#FFA15A",
           "#19d3f3",
           "#FF6692",
           "#B6E880",
           "#FF97FF",
           "#FECB52"
          ],
          "font": {
           "color": "#2a3f5f"
          },
          "geo": {
           "bgcolor": "white",
           "lakecolor": "white",
           "landcolor": "#E5ECF6",
           "showlakes": true,
           "showland": true,
           "subunitcolor": "white"
          },
          "hoverlabel": {
           "align": "left"
          },
          "hovermode": "closest",
          "mapbox": {
           "style": "light"
          },
          "paper_bgcolor": "white",
          "plot_bgcolor": "#E5ECF6",
          "polar": {
           "angularaxis": {
            "gridcolor": "white",
            "linecolor": "white",
            "ticks": ""
           },
           "bgcolor": "#E5ECF6",
           "radialaxis": {
            "gridcolor": "white",
            "linecolor": "white",
            "ticks": ""
           }
          },
          "scene": {
           "xaxis": {
            "backgroundcolor": "#E5ECF6",
            "gridcolor": "white",
            "gridwidth": 2,
            "linecolor": "white",
            "showbackground": true,
            "ticks": "",
            "zerolinecolor": "white"
           },
           "yaxis": {
            "backgroundcolor": "#E5ECF6",
            "gridcolor": "white",
            "gridwidth": 2,
            "linecolor": "white",
            "showbackground": true,
            "ticks": "",
            "zerolinecolor": "white"
           },
           "zaxis": {
            "backgroundcolor": "#E5ECF6",
            "gridcolor": "white",
            "gridwidth": 2,
            "linecolor": "white",
            "showbackground": true,
            "ticks": "",
            "zerolinecolor": "white"
           }
          },
          "shapedefaults": {
           "line": {
            "color": "#2a3f5f"
           }
          },
          "ternary": {
           "aaxis": {
            "gridcolor": "white",
            "linecolor": "white",
            "ticks": ""
           },
           "baxis": {
            "gridcolor": "white",
            "linecolor": "white",
            "ticks": ""
           },
           "bgcolor": "#E5ECF6",
           "caxis": {
            "gridcolor": "white",
            "linecolor": "white",
            "ticks": ""
           }
          },
          "title": {
           "x": 0.05
          },
          "xaxis": {
           "automargin": true,
           "gridcolor": "white",
           "linecolor": "white",
           "ticks": "",
           "title": {
            "standoff": 15
           },
           "zerolinecolor": "white",
           "zerolinewidth": 2
          },
          "yaxis": {
           "automargin": true,
           "gridcolor": "white",
           "linecolor": "white",
           "ticks": "",
           "title": {
            "standoff": 15
           },
           "zerolinecolor": "white",
           "zerolinewidth": 2
          }
         }
        }
       }
      },
      "text/html": [
       "<div>                            <div id=\"f4fb71bc-4ec4-4161-a4a0-9e618135d47b\" class=\"plotly-graph-div\" style=\"height:525px; width:100%;\"></div>            <script type=\"text/javascript\">                require([\"plotly\"], function(Plotly) {                    window.PLOTLYENV=window.PLOTLYENV || {};                                    if (document.getElementById(\"f4fb71bc-4ec4-4161-a4a0-9e618135d47b\")) {                    Plotly.newPlot(                        \"f4fb71bc-4ec4-4161-a4a0-9e618135d47b\",                        [{\"geo\":\"geo\",\"hovertemplate\":\"latitude=%{lat}<br>longitude=%{lon}<extra></extra>\",\"lat\":[-34.9289,-35.0228,-36.0806,-23.7,-37.55,-36.75,-27.4678,-16.9303,-35.2931,-31.4997,-30.3022,-12.4381,-28.0167,-42.8806,-41.4419,-37.8136,-34.1889,-29.465,-37.8294,-32.9167,-34.4667,-33.7511,-31.9522,-38.3333,-33.5983,-38.1,-33.865,-19.2564,-35.1189,-34.4331],\"legendgroup\":\"\",\"lon\":[138.6011,117.8814,146.9158,133.8667,143.85,144.2667,153.0281,145.7703,149.1269,145.8319,153.1189,130.8411,153.4,147.325,147.145,144.9631,142.1583,149.8344,140.7828,151.75,138.9833,150.6942,115.8589,141.6,150.7511,147.0667,151.2094,146.8183,147.3689,150.8831],\"marker\":{\"color\":\"#636efa\",\"symbol\":\"circle\"},\"mode\":\"markers\",\"name\":\"\",\"showlegend\":false,\"type\":\"scattergeo\"}],                        {\"template\":{\"data\":{\"histogram2dcontour\":[{\"type\":\"histogram2dcontour\",\"colorbar\":{\"outlinewidth\":0,\"ticks\":\"\"},\"colorscale\":[[0.0,\"#0d0887\"],[0.1111111111111111,\"#46039f\"],[0.2222222222222222,\"#7201a8\"],[0.3333333333333333,\"#9c179e\"],[0.4444444444444444,\"#bd3786\"],[0.5555555555555556,\"#d8576b\"],[0.6666666666666666,\"#ed7953\"],[0.7777777777777778,\"#fb9f3a\"],[0.8888888888888888,\"#fdca26\"],[1.0,\"#f0f921\"]]}],\"choropleth\":[{\"type\":\"choropleth\",\"colorbar\":{\"outlinewidth\":0,\"ticks\":\"\"}}],\"histogram2d\":[{\"type\":\"histogram2d\",\"colorbar\":{\"outlinewidth\":0,\"ticks\":\"\"},\"colorscale\":[[0.0,\"#0d0887\"],[0.1111111111111111,\"#46039f\"],[0.2222222222222222,\"#7201a8\"],[0.3333333333333333,\"#9c179e\"],[0.4444444444444444,\"#bd3786\"],[0.5555555555555556,\"#d8576b\"],[0.6666666666666666,\"#ed7953\"],[0.7777777777777778,\"#fb9f3a\"],[0.8888888888888888,\"#fdca26\"],[1.0,\"#f0f921\"]]}],\"heatmap\":[{\"type\":\"heatmap\",\"colorbar\":{\"outlinewidth\":0,\"ticks\":\"\"},\"colorscale\":[[0.0,\"#0d0887\"],[0.1111111111111111,\"#46039f\"],[0.2222222222222222,\"#7201a8\"],[0.3333333333333333,\"#9c179e\"],[0.4444444444444444,\"#bd3786\"],[0.5555555555555556,\"#d8576b\"],[0.6666666666666666,\"#ed7953\"],[0.7777777777777778,\"#fb9f3a\"],[0.8888888888888888,\"#fdca26\"],[1.0,\"#f0f921\"]]}],\"heatmapgl\":[{\"type\":\"heatmapgl\",\"colorbar\":{\"outlinewidth\":0,\"ticks\":\"\"},\"colorscale\":[[0.0,\"#0d0887\"],[0.1111111111111111,\"#46039f\"],[0.2222222222222222,\"#7201a8\"],[0.3333333333333333,\"#9c179e\"],[0.4444444444444444,\"#bd3786\"],[0.5555555555555556,\"#d8576b\"],[0.6666666666666666,\"#ed7953\"],[0.7777777777777778,\"#fb9f3a\"],[0.8888888888888888,\"#fdca26\"],[1.0,\"#f0f921\"]]}],\"contourcarpet\":[{\"type\":\"contourcarpet\",\"colorbar\":{\"outlinewidth\":0,\"ticks\":\"\"}}],\"contour\":[{\"type\":\"contour\",\"colorbar\":{\"outlinewidth\":0,\"ticks\":\"\"},\"colorscale\":[[0.0,\"#0d0887\"],[0.1111111111111111,\"#46039f\"],[0.2222222222222222,\"#7201a8\"],[0.3333333333333333,\"#9c179e\"],[0.4444444444444444,\"#bd3786\"],[0.5555555555555556,\"#d8576b\"],[0.6666666666666666,\"#ed7953\"],[0.7777777777777778,\"#fb9f3a\"],[0.8888888888888888,\"#fdca26\"],[1.0,\"#f0f921\"]]}],\"surface\":[{\"type\":\"surface\",\"colorbar\":{\"outlinewidth\":0,\"ticks\":\"\"},\"colorscale\":[[0.0,\"#0d0887\"],[0.1111111111111111,\"#46039f\"],[0.2222222222222222,\"#7201a8\"],[0.3333333333333333,\"#9c179e\"],[0.4444444444444444,\"#bd3786\"],[0.5555555555555556,\"#d8576b\"],[0.6666666666666666,\"#ed7953\"],[0.7777777777777778,\"#fb9f3a\"],[0.8888888888888888,\"#fdca26\"],[1.0,\"#f0f921\"]]}],\"mesh3d\":[{\"type\":\"mesh3d\",\"colorbar\":{\"outlinewidth\":0,\"ticks\":\"\"}}],\"scatter\":[{\"fillpattern\":{\"fillmode\":\"overlay\",\"size\":10,\"solidity\":0.2},\"type\":\"scatter\"}],\"parcoords\":[{\"type\":\"parcoords\",\"line\":{\"colorbar\":{\"outlinewidth\":0,\"ticks\":\"\"}}}],\"scatterpolargl\":[{\"type\":\"scatterpolargl\",\"marker\":{\"colorbar\":{\"outlinewidth\":0,\"ticks\":\"\"}}}],\"bar\":[{\"error_x\":{\"color\":\"#2a3f5f\"},\"error_y\":{\"color\":\"#2a3f5f\"},\"marker\":{\"line\":{\"color\":\"#E5ECF6\",\"width\":0.5},\"pattern\":{\"fillmode\":\"overlay\",\"size\":10,\"solidity\":0.2}},\"type\":\"bar\"}],\"scattergeo\":[{\"type\":\"scattergeo\",\"marker\":{\"colorbar\":{\"outlinewidth\":0,\"ticks\":\"\"}}}],\"scatterpolar\":[{\"type\":\"scatterpolar\",\"marker\":{\"colorbar\":{\"outlinewidth\":0,\"ticks\":\"\"}}}],\"histogram\":[{\"marker\":{\"pattern\":{\"fillmode\":\"overlay\",\"size\":10,\"solidity\":0.2}},\"type\":\"histogram\"}],\"scattergl\":[{\"type\":\"scattergl\",\"marker\":{\"colorbar\":{\"outlinewidth\":0,\"ticks\":\"\"}}}],\"scatter3d\":[{\"type\":\"scatter3d\",\"line\":{\"colorbar\":{\"outlinewidth\":0,\"ticks\":\"\"}},\"marker\":{\"colorbar\":{\"outlinewidth\":0,\"ticks\":\"\"}}}],\"scattermapbox\":[{\"type\":\"scattermapbox\",\"marker\":{\"colorbar\":{\"outlinewidth\":0,\"ticks\":\"\"}}}],\"scatterternary\":[{\"type\":\"scatterternary\",\"marker\":{\"colorbar\":{\"outlinewidth\":0,\"ticks\":\"\"}}}],\"scattercarpet\":[{\"type\":\"scattercarpet\",\"marker\":{\"colorbar\":{\"outlinewidth\":0,\"ticks\":\"\"}}}],\"carpet\":[{\"aaxis\":{\"endlinecolor\":\"#2a3f5f\",\"gridcolor\":\"white\",\"linecolor\":\"white\",\"minorgridcolor\":\"white\",\"startlinecolor\":\"#2a3f5f\"},\"baxis\":{\"endlinecolor\":\"#2a3f5f\",\"gridcolor\":\"white\",\"linecolor\":\"white\",\"minorgridcolor\":\"white\",\"startlinecolor\":\"#2a3f5f\"},\"type\":\"carpet\"}],\"table\":[{\"cells\":{\"fill\":{\"color\":\"#EBF0F8\"},\"line\":{\"color\":\"white\"}},\"header\":{\"fill\":{\"color\":\"#C8D4E3\"},\"line\":{\"color\":\"white\"}},\"type\":\"table\"}],\"barpolar\":[{\"marker\":{\"line\":{\"color\":\"#E5ECF6\",\"width\":0.5},\"pattern\":{\"fillmode\":\"overlay\",\"size\":10,\"solidity\":0.2}},\"type\":\"barpolar\"}],\"pie\":[{\"automargin\":true,\"type\":\"pie\"}]},\"layout\":{\"autotypenumbers\":\"strict\",\"colorway\":[\"#636efa\",\"#EF553B\",\"#00cc96\",\"#ab63fa\",\"#FFA15A\",\"#19d3f3\",\"#FF6692\",\"#B6E880\",\"#FF97FF\",\"#FECB52\"],\"font\":{\"color\":\"#2a3f5f\"},\"hovermode\":\"closest\",\"hoverlabel\":{\"align\":\"left\"},\"paper_bgcolor\":\"white\",\"plot_bgcolor\":\"#E5ECF6\",\"polar\":{\"bgcolor\":\"#E5ECF6\",\"angularaxis\":{\"gridcolor\":\"white\",\"linecolor\":\"white\",\"ticks\":\"\"},\"radialaxis\":{\"gridcolor\":\"white\",\"linecolor\":\"white\",\"ticks\":\"\"}},\"ternary\":{\"bgcolor\":\"#E5ECF6\",\"aaxis\":{\"gridcolor\":\"white\",\"linecolor\":\"white\",\"ticks\":\"\"},\"baxis\":{\"gridcolor\":\"white\",\"linecolor\":\"white\",\"ticks\":\"\"},\"caxis\":{\"gridcolor\":\"white\",\"linecolor\":\"white\",\"ticks\":\"\"}},\"coloraxis\":{\"colorbar\":{\"outlinewidth\":0,\"ticks\":\"\"}},\"colorscale\":{\"sequential\":[[0.0,\"#0d0887\"],[0.1111111111111111,\"#46039f\"],[0.2222222222222222,\"#7201a8\"],[0.3333333333333333,\"#9c179e\"],[0.4444444444444444,\"#bd3786\"],[0.5555555555555556,\"#d8576b\"],[0.6666666666666666,\"#ed7953\"],[0.7777777777777778,\"#fb9f3a\"],[0.8888888888888888,\"#fdca26\"],[1.0,\"#f0f921\"]],\"sequentialminus\":[[0.0,\"#0d0887\"],[0.1111111111111111,\"#46039f\"],[0.2222222222222222,\"#7201a8\"],[0.3333333333333333,\"#9c179e\"],[0.4444444444444444,\"#bd3786\"],[0.5555555555555556,\"#d8576b\"],[0.6666666666666666,\"#ed7953\"],[0.7777777777777778,\"#fb9f3a\"],[0.8888888888888888,\"#fdca26\"],[1.0,\"#f0f921\"]],\"diverging\":[[0,\"#8e0152\"],[0.1,\"#c51b7d\"],[0.2,\"#de77ae\"],[0.3,\"#f1b6da\"],[0.4,\"#fde0ef\"],[0.5,\"#f7f7f7\"],[0.6,\"#e6f5d0\"],[0.7,\"#b8e186\"],[0.8,\"#7fbc41\"],[0.9,\"#4d9221\"],[1,\"#276419\"]]},\"xaxis\":{\"gridcolor\":\"white\",\"linecolor\":\"white\",\"ticks\":\"\",\"title\":{\"standoff\":15},\"zerolinecolor\":\"white\",\"automargin\":true,\"zerolinewidth\":2},\"yaxis\":{\"gridcolor\":\"white\",\"linecolor\":\"white\",\"ticks\":\"\",\"title\":{\"standoff\":15},\"zerolinecolor\":\"white\",\"automargin\":true,\"zerolinewidth\":2},\"scene\":{\"xaxis\":{\"backgroundcolor\":\"#E5ECF6\",\"gridcolor\":\"white\",\"linecolor\":\"white\",\"showbackground\":true,\"ticks\":\"\",\"zerolinecolor\":\"white\",\"gridwidth\":2},\"yaxis\":{\"backgroundcolor\":\"#E5ECF6\",\"gridcolor\":\"white\",\"linecolor\":\"white\",\"showbackground\":true,\"ticks\":\"\",\"zerolinecolor\":\"white\",\"gridwidth\":2},\"zaxis\":{\"backgroundcolor\":\"#E5ECF6\",\"gridcolor\":\"white\",\"linecolor\":\"white\",\"showbackground\":true,\"ticks\":\"\",\"zerolinecolor\":\"white\",\"gridwidth\":2}},\"shapedefaults\":{\"line\":{\"color\":\"#2a3f5f\"}},\"annotationdefaults\":{\"arrowcolor\":\"#2a3f5f\",\"arrowhead\":0,\"arrowwidth\":1},\"geo\":{\"bgcolor\":\"white\",\"landcolor\":\"#E5ECF6\",\"subunitcolor\":\"white\",\"showland\":true,\"showlakes\":true,\"lakecolor\":\"white\"},\"title\":{\"x\":0.05},\"mapbox\":{\"style\":\"light\"}}},\"geo\":{\"domain\":{\"x\":[0.0,1.0],\"y\":[0.0,1.0]},\"center\":{}},\"legend\":{\"tracegroupgap\":0},\"margin\":{\"t\":60}},                        {\"responsive\": true}                    ).then(function(){\n",
       "                            \n",
       "var gd = document.getElementById('f4fb71bc-4ec4-4161-a4a0-9e618135d47b');\n",
       "var x = new MutationObserver(function (mutations, observer) {{\n",
       "        var display = window.getComputedStyle(gd).display;\n",
       "        if (!display || display === 'none') {{\n",
       "            console.log([gd, 'removed!']);\n",
       "            Plotly.purge(gd);\n",
       "            observer.disconnect();\n",
       "        }}\n",
       "}});\n",
       "\n",
       "// Listen for the removal of the full notebook cells\n",
       "var notebookContainer = gd.closest('#notebook-container');\n",
       "if (notebookContainer) {{\n",
       "    x.observe(notebookContainer, {childList: true});\n",
       "}}\n",
       "\n",
       "// Listen for the clearing of the current output cell\n",
       "var outputEl = gd.closest('.output');\n",
       "if (outputEl) {{\n",
       "    x.observe(outputEl, {childList: true});\n",
       "}}\n",
       "\n",
       "                        })                };                });            </script>        </div>"
      ]
     },
     "metadata": {},
     "output_type": "display_data"
    }
   ],
   "source": [
    "#Write your code here\n",
    "import plotly.express as px\n",
    "\n",
    "px.scatter_geo(data_frame = meta, lat = meta[\"latitude\"], lon = meta[\"longitude\"])"
   ]
  },
  {
   "cell_type": "markdown",
   "id": "968006d1-c4d2-4d09-ba0f-72e9fba50de7",
   "metadata": {
    "jp-MarkdownHeadingCollapsed": true,
    "tags": []
   },
   "source": [
    "---\n",
    "### &#128721; STOP (1 point)\n",
    "**Pause to commit your changes to your Git repository!**\n",
    "\n",
    "Take a moment to save your notebook, commit and push the changes to your Git repository.\n",
    "\n",
    "---"
   ]
  },
  {
   "cell_type": "markdown",
   "id": "a8efb523-e4b5-44bc-9687-1568577fc1f2",
   "metadata": {
    "tags": []
   },
   "source": [
    "## Part 4: Accessing Specific Data Values with Pandas (15 points)\n",
    "\n",
    "For this part of the exam, we’ll walk through how to use Pandas to access specific pieces of information in our dataframes.\n",
    "\n",
    "### 4.1 Getting the Metadata (5 points)\n",
    "\n",
    "&#9989; **Use Pandas to access the value in the the 15th row and 2nd column in the metadata dataframe (I.e., the Longitude for Mildura).** *Hint: What is the easiest way to access data using index values?*"
   ]
  },
  {
   "cell_type": "code",
   "execution_count": 18,
   "id": "d5baf706-738d-4b61-97a8-f6d827b5bfd3",
   "metadata": {},
   "outputs": [
    {
     "data": {
      "text/plain": [
       "-41.4419"
      ]
     },
     "execution_count": 18,
     "metadata": {},
     "output_type": "execute_result"
    }
   ],
   "source": [
    "# in the question it says longitude and 2nd column, but longitude is the 3rd column so i will assume you meant latitude\n",
    "\n",
    "meta[\"latitude\"].iloc[14] "
   ]
  },
  {
   "cell_type": "markdown",
   "id": "8f9d3b23-a3fb-459b-97d4-facdb37cd7f7",
   "metadata": {},
   "source": [
    "### 4.2 Getting Temperature Data (5 Points)\n",
    "\n",
    "&#9989; **Use Pandas to access the entire eighth column of data in the temperature dataframe (I.e., all the average temperature values for Canberra).** Try to use the same tools as the previous problem."
   ]
  },
  {
   "cell_type": "code",
   "execution_count": 19,
   "id": "c3da70e4-3464-4453-a8b3-2780a32a2336",
   "metadata": {},
   "outputs": [
    {
     "data": {
      "text/plain": [
       "0       16.15\n",
       "1       20.45\n",
       "2       18.55\n",
       "3       14.40\n",
       "4       11.85\n",
       "        ...  \n",
       "3431     6.15\n",
       "3432     6.75\n",
       "3433     5.20\n",
       "3434     7.25\n",
       "3435     5.10\n",
       "Name: Canberra, Length: 3436, dtype: float64"
      ]
     },
     "execution_count": 19,
     "metadata": {},
     "output_type": "execute_result"
    }
   ],
   "source": [
    "temp[\"Canberra\"]"
   ]
  },
  {
   "cell_type": "markdown",
   "id": "42affb76-e248-4443-8261-1d0e32aebcda",
   "metadata": {},
   "source": [
    "### 4.3 Getting Precipitation Data (5 Points)\n",
    "\n",
    "&#9989; **Use Pandas to access the entire eighth column of data in the precipitation dataframe (I.e., all rainfall values for Canberra).** Try to use the same tools as the previous two parts."
   ]
  },
  {
   "cell_type": "code",
   "execution_count": 20,
   "id": "3a398463-bd78-4f43-998d-39ce1d4b8c25",
   "metadata": {},
   "outputs": [
    {
     "data": {
      "text/plain": [
       "0        0.0\n",
       "1        3.6\n",
       "2        3.6\n",
       "3       39.8\n",
       "4        2.8\n",
       "        ... \n",
       "3431     0.2\n",
       "3432     0.0\n",
       "3433     0.4\n",
       "3434     0.0\n",
       "3435     0.0\n",
       "Name: Canberra, Length: 3436, dtype: float64"
      ]
     },
     "execution_count": 20,
     "metadata": {},
     "output_type": "execute_result"
    }
   ],
   "source": [
    "precip[\"Canberra\"]"
   ]
  },
  {
   "cell_type": "markdown",
   "id": "2c5a612c-c356-4ab1-a62c-fa8daafb80bd",
   "metadata": {},
   "source": [
    "## Part 5: Designing a Class (15 points)\n",
    "\n",
    "The issue with this dataset is that it comes in two parts: the climate data and the metadata for each city. To make life easier, we’re going to combine both the data and the metadata by designing a new class, the `climate` class.\n",
    "\n",
    "&#9989; **Write a new class for this climate data.** Your class should have the following: \n",
    "- Attributes for each piece of information in the metadata file (I.e., City Name, latitude, and longitude)\n",
    "- Precipitation \n",
    "- Temperature \n",
    "- `get`-methods for both precipitation and temperature (for the sake of time, you don’t need to write `set`-methods or `get`-methods for any of the other attributes)."
   ]
  },
  {
   "cell_type": "code",
   "execution_count": 50,
   "id": "dfc6d1d7-90f0-4de4-9adf-a81ac137c0b3",
   "metadata": {},
   "outputs": [],
   "source": [
    "class climate(object):\n",
    "    \n",
    "    def __init__(self, name, precipitation, temperature):\n",
    "        self.name = name \n",
    "        self.precipitation = precipitation\n",
    "        self.temperature = temperature\n",
    "        \n",
    "    def set_precipitation(self):\n",
    "        self.precipitation = precipitation \n",
    "        \n",
    "    def get_precipitation(self):\n",
    "        return self.precipitation \n",
    "    \n",
    "    def set_temperature(self):\n",
    "        self.temperature = temperature\n",
    "        \n",
    "    def get_temperature(self):\n",
    "        return self.temperature"
   ]
  },
  {
   "cell_type": "markdown",
   "id": "d6fbf4fe-e3fb-46c6-a192-6d235ee9348f",
   "metadata": {
    "jp-MarkdownHeadingCollapsed": true,
    "tags": []
   },
   "source": [
    "---\n",
    "### &#128721; STOP (1 point)\n",
    "**Pause to commit your changes to your Git repository!**\n",
    "\n",
    "Take a moment to save your notebook, commit  and push the changes to your Git repository.\n",
    "\n",
    "---"
   ]
  },
  {
   "cell_type": "markdown",
   "id": "5c647abf-1b0a-4485-9765-5b448d3b776e",
   "metadata": {},
   "source": [
    "## Part 6: Building Objects (15 points)\n",
    "\n",
    "&#9989; **Construct `climate` objects for all of the climate (rainfall and temperature) measurements. Append all of the objects to a new list called `climate_objects`.** "
   ]
  },
  {
   "cell_type": "code",
   "execution_count": 63,
   "id": "aee8c287-b4b1-4628-a36a-c484212e69eb",
   "metadata": {},
   "outputs": [
    {
     "data": {
      "text/plain": [
       "0         NaN\n",
       "1         NaN\n",
       "2         NaN\n",
       "3         NaN\n",
       "4         NaN\n",
       "        ...  \n",
       "3431    11.85\n",
       "3432    12.05\n",
       "3433    11.95\n",
       "3434    11.15\n",
       "3435      NaN\n",
       "Name: Adelaide, Length: 3436, dtype: float64"
      ]
     },
     "execution_count": 63,
     "metadata": {},
     "output_type": "execute_result"
    }
   ],
   "source": [
    "# sorry for doing this the worst and least efficient way possible\n",
    "\n",
    "climate_objects = []\n",
    "\n",
    "Adelaide = climate(\"Adelaide\", precip[\"Adelaide\"], temp[\"Adelaide\"])\n",
    "Albany = climate(\"Albany\", precip[\"Albany\"], temp[\"Albany\"])\n",
    "Albury = climate(\"Albury\", precip[\"Albury\"], temp[\"Albury\"])\n",
    "AliceSprings = climate(\"AliceSprings\", precip[\"AliceSprings\"], temp[\"AliceSprings\"])\n",
    "Ballarat = climate(\"Ballarat\", precip[\"Ballarat\"], temp[\"Ballarat\"])\n",
    "Bendigo = climate(\"Bendigo\", precip[\"Bendigo\"], temp[\"Bendigo\"])\n",
    "Brisbane = climate(\"Brisbane\", precip[\"Brisbane\"], temp[\"Brisbane\"])\n",
    "Cairns = climate(\"Cairns\", precip[\"Cairns\"], temp[\"Cairns\"])\n",
    "Canberra = climate(\"Canberra\", precip[\"Canberra\"], temp[\"Canberra\"])\n",
    "Cobar = climate(\"Cobar\", precip[\"Cobar\"], temp[\"Cobar\"])\n",
    "CoffsHarbour = climate(\"CoffsHarbour\", precip[\"CoffsHarbour\"], temp[\"CoffsHarbour\"])\n",
    "Darwin = climate(\"Darwin\", precip[\"Darwin\"], temp[\"Darwin\"])\n",
    "GoldCoast = climate(\"GoldCoast\", precip[\"GoldCoast\"], temp[\"GoldCoast\"])\n",
    "Hobart = climate(\"Hobart\", precip[\"Hobart\"], temp[\"Hobart\"])\n",
    "Launceston = climate(\"Launceston\", precip[\"Launceston\"], temp[\"Launceston\"])\n",
    "Melbourne = climate(\"Melbourne\", precip[\"Melbourne\"], temp[\"Melbourne\"])\n",
    "Mildura = climate(\"Mildura\", precip[\"Mildura\"], temp[\"Mildura\"])\n",
    "Moree = climate(\"Moree\", precip[\"Moree\"], temp[\"Moree\"])\n",
    "MountGambier = climate(\"MountGambier\", precip[\"MountGambier\"], temp[\"MountGambier\"])\n",
    "Newcastle = climate(\"Newcastle\", precip[\"Newcastle\"], temp[\"Newcastle\"])\n",
    "Nuriootpa = climate(\"Nuriootpa\", precip[\"Nuriootpa\"], temp[\"Nuriootpa\"])\n",
    "Penrith = climate(\"Penrith\", precip[\"Penrith\"], temp[\"Penrith\"])\n",
    "Perth = climate(\"Perth\", precip[\"Perth\"], temp[\"Perth\"])\n",
    "Portland = climate(\"Portland\", precip[\"Portland\"], temp[\"Portland\"])\n",
    "Richmond = climate(\"Richmond\", precip[\"Richmond\"], temp[\"Richmond\"])\n",
    "Sale = climate(\"Sale\", precip[\"Sale\"], temp[\"Sale\"])\n",
    "Sydney = climate(\"Sydney\", precip[\"Sydney\"], temp[\"Sydney\"])\n",
    "Townsville = climate(\"Townsville\", precip[\"Townsville\"], temp[\"Townsville\"])\n",
    "WaggaWagga = climate(\"WaggaWagga\", precip[\"WaggaWagga\"], temp[\"WaggaWagga\"])\n",
    "Wollongong = climate(\"Wollongong\", precip[\"Wollongong\"], temp[\"Wollongong\"])\n",
    "\n",
    "climate_objects.append(Adelaide)\n",
    "climate_objects.append(Albany)\n",
    "climate_objects.append(Albury)\n",
    "climate_objects.append(AliceSprings)\n",
    "climate_objects.append(Ballarat)\n",
    "climate_objects.append(Bendigo)\n",
    "climate_objects.append(Brisbane)\n",
    "climate_objects.append(Cairns)\n",
    "climate_objects.append(Canberra)\n",
    "climate_objects.append(Cobar)\n",
    "climate_objects.append(CoffsHarbour)\n",
    "climate_objects.append(Darwin)\n",
    "climate_objects.append(GoldCoast)\n",
    "climate_objects.append(Hobart)\n",
    "climate_objects.append(Launceston)\n",
    "climate_objects.append(Melbourne)\n",
    "climate_objects.append(Mildura)\n",
    "climate_objects.append(Moree)\n",
    "climate_objects.append(MountGambier)\n",
    "climate_objects.append(Newcastle)\n",
    "climate_objects.append(Nuriootpa)\n",
    "climate_objects.append(Penrith)\n",
    "climate_objects.append(Perth)\n",
    "climate_objects.append(Portland)\n",
    "climate_objects.append(Richmond)\n",
    "climate_objects.append(Sale)\n",
    "climate_objects.append(Sydney)\n",
    "climate_objects.append(Townsville)\n",
    "climate_objects.append(WaggaWagga)\n",
    "climate_objects.append(Wollongong)\n",
    "\n",
    "Adelaide.get_temperature() # test"
   ]
  },
  {
   "cell_type": "markdown",
   "id": "84654ba5-253d-4917-8a47-e01d510d9342",
   "metadata": {},
   "source": [
    "## Part 7: Converting Temperature Values (12 points)\n",
    "\n",
    "*Note: You can complete parts 7.1 and 7.2 even if you did not complete Part 6*\n",
    "\n",
    "### Part 7.1: Fixing the Problem (4 points)\n",
    "&#9989; **All of the temperature values are in Celsius and need to be converted to Fahrenheit scaled with the equation $T_{Fahrenheit} = 1.8\\times T_{Celsius}+32$, where $T_{Celsius}$ are the numbers you have in the `df_temp` dataframe, and $T_{Fahrenheit}$ is what you want to calculate. Write a new method in your `climate` class that does this.** "
   ]
  },
  {
   "cell_type": "code",
   "execution_count": 64,
   "id": "1e4373db-4af1-4bba-8144-087e2a84c9a2",
   "metadata": {},
   "outputs": [],
   "source": [
    "class climate(object):\n",
    "    \n",
    "    def __init__(self, name, precipitation, temperature):\n",
    "        self.name = name \n",
    "        self.precipitation = precipitation\n",
    "        self.temperature = temperature\n",
    "        \n",
    "    def set_precipitation(self):\n",
    "        self.precipitation = precipitation \n",
    "        \n",
    "    def get_precipitation(self):\n",
    "        return self.precipitation \n",
    "    \n",
    "    def set_temperature(self):\n",
    "        self.temperature = temperature\n",
    "        \n",
    "    def get_temperature(self):\n",
    "        return self.temperature\n",
    "    \n",
    "    def convert_temperatures(self, temperature):\n",
    "        fahrenheit = 1.8*temperature+32\n",
    "        return fahrenheit"
   ]
  },
  {
   "cell_type": "markdown",
   "id": "fffc47f1-635d-4aa2-973e-94e1f4bfbdba",
   "metadata": {},
   "source": [
    "### Part 7.2: Applying the Fix (4 points)\n",
    "&#9989; **Call your method within the constructor method (I.e., the `__init__` method), so that it automatically converts the temperature values as it creates a new `climate` object.**"
   ]
  },
  {
   "cell_type": "code",
   "execution_count": 65,
   "id": "7995705b-e252-47cd-9281-ce8e85b8c8a4",
   "metadata": {},
   "outputs": [],
   "source": [
    "class climate(object):\n",
    "    \n",
    "    def __init__(self, name, precipitation, temperature):\n",
    "        self.name = name \n",
    "        self.precipitation = precipitation\n",
    "        self.temperature = fahrenheit = 1.8*temperature+32\n",
    "        \n",
    "    def set_precipitation(self):\n",
    "        self.precipitation = precipitation \n",
    "        \n",
    "    def get_precipitation(self):\n",
    "        return self.precipitation \n",
    "    \n",
    "    def convert_temperatures(self, temperature):\n",
    "        fahrenheit = 1.8*temperature+32\n",
    "        return fahrenheit\n",
    "    \n",
    "    def set_temperature(self):\n",
    "        self.temperature = temperature\n",
    "        \n",
    "    def get_temperature(self):\n",
    "        return self.temperature"
   ]
  },
  {
   "cell_type": "markdown",
   "id": "aa7be01f-6a2d-428b-be51-8789e624ba12",
   "metadata": {},
   "source": [
    "### Part 7.3: Rebuilding (4 points)\n",
    "&#9989; **Rerun your code from Part 6 to rebuild your objects with properly converted temperature values.**"
   ]
  },
  {
   "cell_type": "code",
   "execution_count": 67,
   "id": "50af8d35-8ce5-4df8-b84a-2fad83c3a08e",
   "metadata": {},
   "outputs": [
    {
     "data": {
      "text/plain": [
       "0         NaN\n",
       "1         NaN\n",
       "2         NaN\n",
       "3         NaN\n",
       "4         NaN\n",
       "        ...  \n",
       "3431    53.33\n",
       "3432    53.69\n",
       "3433    53.51\n",
       "3434    52.07\n",
       "3435      NaN\n",
       "Name: Adelaide, Length: 3436, dtype: float64"
      ]
     },
     "execution_count": 67,
     "metadata": {},
     "output_type": "execute_result"
    }
   ],
   "source": [
    "climate_objects = []\n",
    "\n",
    "Adelaide = climate(\"Adelaide\", precip[\"Adelaide\"], temp[\"Adelaide\"])\n",
    "Albany = climate(\"Albany\", precip[\"Albany\"], temp[\"Albany\"])\n",
    "Albury = climate(\"Albury\", precip[\"Albury\"], temp[\"Albury\"])\n",
    "AliceSprings = climate(\"AliceSprings\", precip[\"AliceSprings\"], temp[\"AliceSprings\"])\n",
    "Ballarat = climate(\"Ballarat\", precip[\"Ballarat\"], temp[\"Ballarat\"])\n",
    "Bendigo = climate(\"Bendigo\", precip[\"Bendigo\"], temp[\"Bendigo\"])\n",
    "Brisbane = climate(\"Brisbane\", precip[\"Brisbane\"], temp[\"Brisbane\"])\n",
    "Cairns = climate(\"Cairns\", precip[\"Cairns\"], temp[\"Cairns\"])\n",
    "Canberra = climate(\"Canberra\", precip[\"Canberra\"], temp[\"Canberra\"])\n",
    "Cobar = climate(\"Cobar\", precip[\"Cobar\"], temp[\"Cobar\"])\n",
    "CoffsHarbour = climate(\"CoffsHarbour\", precip[\"CoffsHarbour\"], temp[\"CoffsHarbour\"])\n",
    "Darwin = climate(\"Darwin\", precip[\"Darwin\"], temp[\"Darwin\"])\n",
    "GoldCoast = climate(\"GoldCoast\", precip[\"GoldCoast\"], temp[\"GoldCoast\"])\n",
    "Hobart = climate(\"Hobart\", precip[\"Hobart\"], temp[\"Hobart\"])\n",
    "Launceston = climate(\"Launceston\", precip[\"Launceston\"], temp[\"Launceston\"])\n",
    "Melbourne = climate(\"Melbourne\", precip[\"Melbourne\"], temp[\"Melbourne\"])\n",
    "Mildura = climate(\"Mildura\", precip[\"Mildura\"], temp[\"Mildura\"])\n",
    "Moree = climate(\"Moree\", precip[\"Moree\"], temp[\"Moree\"])\n",
    "MountGambier = climate(\"MountGambier\", precip[\"MountGambier\"], temp[\"MountGambier\"])\n",
    "Newcastle = climate(\"Newcastle\", precip[\"Newcastle\"], temp[\"Newcastle\"])\n",
    "Nuriootpa = climate(\"Nuriootpa\", precip[\"Nuriootpa\"], temp[\"Nuriootpa\"])\n",
    "Penrith = climate(\"Penrith\", precip[\"Penrith\"], temp[\"Penrith\"])\n",
    "Perth = climate(\"Perth\", precip[\"Perth\"], temp[\"Perth\"])\n",
    "Portland = climate(\"Portland\", precip[\"Portland\"], temp[\"Portland\"])\n",
    "Richmond = climate(\"Richmond\", precip[\"Richmond\"], temp[\"Richmond\"])\n",
    "Sale = climate(\"Sale\", precip[\"Sale\"], temp[\"Sale\"])\n",
    "Sydney = climate(\"Sydney\", precip[\"Sydney\"], temp[\"Sydney\"])\n",
    "Townsville = climate(\"Townsville\", precip[\"Townsville\"], temp[\"Townsville\"])\n",
    "WaggaWagga = climate(\"WaggaWagga\", precip[\"WaggaWagga\"], temp[\"WaggaWagga\"])\n",
    "Wollongong = climate(\"Wollongong\", precip[\"Wollongong\"], temp[\"Wollongong\"])\n",
    "\n",
    "climate_objects.append(Adelaide)\n",
    "climate_objects.append(Albany)\n",
    "climate_objects.append(Albury)\n",
    "climate_objects.append(AliceSprings)\n",
    "climate_objects.append(Ballarat)\n",
    "climate_objects.append(Bendigo)\n",
    "climate_objects.append(Brisbane)\n",
    "climate_objects.append(Cairns)\n",
    "climate_objects.append(Canberra)\n",
    "climate_objects.append(Cobar)\n",
    "climate_objects.append(CoffsHarbour)\n",
    "climate_objects.append(Darwin)\n",
    "climate_objects.append(GoldCoast)\n",
    "climate_objects.append(Hobart)\n",
    "climate_objects.append(Launceston)\n",
    "climate_objects.append(Melbourne)\n",
    "climate_objects.append(Mildura)\n",
    "climate_objects.append(Moree)\n",
    "climate_objects.append(MountGambier)\n",
    "climate_objects.append(Newcastle)\n",
    "climate_objects.append(Nuriootpa)\n",
    "climate_objects.append(Penrith)\n",
    "climate_objects.append(Perth)\n",
    "climate_objects.append(Portland)\n",
    "climate_objects.append(Richmond)\n",
    "climate_objects.append(Sale)\n",
    "climate_objects.append(Sydney)\n",
    "climate_objects.append(Townsville)\n",
    "climate_objects.append(WaggaWagga)\n",
    "climate_objects.append(Wollongong)\n",
    "\n",
    "Adelaide.get_temperature() # test it did convert"
   ]
  },
  {
   "cell_type": "markdown",
   "id": "a19509b9-fafb-47b0-bcb3-01b390cb17c4",
   "metadata": {},
   "source": [
    "## Part 8: Make a Damn Plot (10 points)\n",
    "\n",
    "&#9989; **Select one of your climate objects and use it to make a plot. Your plot should have Temperature on the x-axis and precipitation on the y-axis.**\n",
    "\n",
    "*Note: You can complete this problem even if you did not complete Part 6 or 7. As long as you have A climate object.*"
   ]
  },
  {
   "cell_type": "code",
   "execution_count": 68,
   "id": "e6dcd0a2-874f-4ffe-8997-4117b89b9ab9",
   "metadata": {},
   "outputs": [
    {
     "data": {
      "text/plain": [
       "Text(0.5, 1.0, 'Temperature vs Precipitation in Moree')"
      ]
     },
     "execution_count": 68,
     "metadata": {},
     "output_type": "execute_result"
    },
    {
     "data": {
      "image/png": "[encoded data removed]",
      "text/plain": [
       "<Figure size 432x288 with 1 Axes>"
      ]
     },
     "metadata": {
      "needs_background": "light"
     },
     "output_type": "display_data"
    }
   ],
   "source": [
    "import matplotlib.pyplot as plt\n",
    "\n",
    "plt.scatter(Moree.get_temperature(), Moree.get_precipitation())\n",
    "plt.xlabel(\"Temperature\")\n",
    "plt.ylabel(\"Precipitation\")\n",
    "plt.title(\"Temperature vs Precipitation in Moree\")"
   ]
  },
  {
   "cell_type": "markdown",
   "id": "24487f41-d69d-4da0-9964-795c7a7d3e7b",
   "metadata": {
    "tags": []
   },
   "source": [
    "---\n",
    "### &#128721; STOP (1 point)\n",
    "**Pause to commit your changes to your Git repository!**\n",
    "\n",
    "Take a moment to save your notebook, commit  and push the changes to your Git repository.\n",
    "\n",
    "---"
   ]
  },
  {
   "cell_type": "markdown",
   "id": "0cd14847-5fcd-40e6-8799-c2e91ea181f2",
   "metadata": {
    "jp-MarkdownHeadingCollapsed": true,
    "tags": []
   },
   "source": [
    "## You're done! Congrats on finishing your CMSE 202 Midterm!\n",
    "\n",
    "Make sure all of your changes to your repository are committed and pushed to GitHub. Also upload a copy of this notebook to the dropbox on D2L in case something went wrong with your repository or if you couldn't get the repository to work."
   ]
  }
 ],
 "metadata": {
  "kernelspec": {
   "display_name": "Python 3",
   "language": "python",
   "name": "python3"
  },
  "language_info": {
   "codemirror_mode": {
    "name": "ipython",
    "version": 3
   },
   "file_extension": ".py",
   "mimetype": "text/x-python",
   "name": "python",
   "nbconvert_exporter": "python",
   "pygments_lexer": "ipython3",
   "version": "3.8.8"
  }
 },
 "nbformat": 4,
 "nbformat_minor": 5
}
